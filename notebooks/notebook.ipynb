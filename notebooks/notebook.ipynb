{
 "cells": [
  {
   "cell_type": "code",
   "execution_count": 1,
   "metadata": {},
   "outputs": [
    {
     "name": "stdout",
     "output_type": "stream",
     "text": [
      "WARNING:tensorflow:From c:\\Users\\MichielWelling\\anaconda3\\envs\\rice_env\\lib\\site-packages\\keras\\src\\losses.py:2976: The name tf.losses.sparse_softmax_cross_entropy is deprecated. Please use tf.compat.v1.losses.sparse_softmax_cross_entropy instead.\n",
      "\n"
     ]
    }
   ],
   "source": [
    "import sys\n",
    "\n",
    "sys.path.insert(1, 'C:/Users/MichielWelling/rice classification')\n",
    "\n",
    "from configs.paths import FILE_PATH_RAW, FOLDER_DATA_RAW\n",
    "import os \n",
    "from tensorflow.keras.preprocessing.image import ImageDataGenerator, load_img, img_to_array\n",
    "\n",
    "# Get a list of subdirectories (each subdirectory corresponds to a class)\n",
    "class_folders = [f.name for f in os.scandir(FOLDER_DATA_RAW) if f.is_dir()]\n",
    "\n",
    "# Get the number of classes\n",
    "num_classes = len(class_folders)\n",
    "\n",
    "img_size = 224\n",
    "batch_size =64\n",
    "# fpath = \"../Rice_Image_Dataset\"\n",
    "datagen = ImageDataGenerator(rescale=1/255.,\n",
    "                            zoom_range=0.2,\n",
    "                            validation_split = 0.2,\n",
    "                            rotation_range=30,\n",
    "                            horizontal_flip=True)"
   ]
  },
  {
   "cell_type": "code",
   "execution_count": 2,
   "metadata": {},
   "outputs": [
    {
     "name": "stdout",
     "output_type": "stream",
     "text": [
      "C:\\Users\\MichielWelling\\rice classification\\data\\raw\n",
      "C:\\Users\\MichielWelling\\rice classification\\data\\raw\\Rice_Image_Dataset\n",
      "C:/Users/MichielWelling/rice classification/data/raw/Rice_Image_Dataset\n"
     ]
    },
    {
     "data": {
      "text/plain": [
       "['Arborio', 'Basmati', 'Ipsala', 'Jasmine', 'Karacadag']"
      ]
     },
     "execution_count": 2,
     "metadata": {},
     "output_type": "execute_result"
    }
   ],
   "source": [
    "print(FOLDER_DATA_RAW)\n",
    "print(FILE_PATH_RAW)\n",
    "print(\"C:/Users/MichielWelling/rice classification/data/raw/Rice_Image_Dataset\")\n",
    "class_folders = [f.name for f in os.scandir(\"C:/Users/MichielWelling/rice classification/data/raw/Rice_Image_Dataset\") if f.is_dir()]\n",
    "class_folders"
   ]
  },
  {
   "cell_type": "code",
   "execution_count": 3,
   "metadata": {},
   "outputs": [
    {
     "name": "stdout",
     "output_type": "stream",
     "text": [
      "Found 60000 images belonging to 5 classes.\n",
      "Found 15000 images belonging to 5 classes.\n"
     ]
    }
   ],
   "source": [
    "train = datagen.flow_from_directory(FILE_PATH_RAW,\n",
    "                                    target_size=(224,224),\n",
    "                                    subset=\"training\",\n",
    "                                    class_mode='categorical',\n",
    "                                    batch_size=batch_size)\n",
    "valdata = datagen.flow_from_directory(FILE_PATH_RAW,\n",
    "                                      target_size=(224,224),\n",
    "                                      batch_size=64,\n",
    "                                      subset='validation',\n",
    "                                      class_mode='categorical')"
   ]
  }
 ],
 "metadata": {
  "kernelspec": {
   "display_name": "Python 3.9.7 ('base')",
   "language": "python",
   "name": "python3"
  },
  "language_info": {
   "codemirror_mode": {
    "name": "ipython",
    "version": 3
   },
   "file_extension": ".py",
   "mimetype": "text/x-python",
   "name": "python",
   "nbconvert_exporter": "python",
   "pygments_lexer": "ipython3",
   "version": "3.9.18"
  },
  "vscode": {
   "interpreter": {
    "hash": "bff51b5bfa98e865204c0539ad34db15d8bf66b339cb2440bf7437b494a33364"
   }
  }
 },
 "nbformat": 4,
 "nbformat_minor": 2
}
