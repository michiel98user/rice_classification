{
 "cells": [
  {
   "cell_type": "markdown",
   "metadata": {},
   "source": [
    "# L&D Best Practices Practical 1: Start notebook\n",
    "This notebook explains how to use the cookiecutter in practice.\n",
    "Before running this notebook, make sure that you have followed all installation instructions in the README.md succesfully."
   ]
  },
  {
   "cell_type": "markdown",
   "metadata": {},
   "source": [
    "## Importing modules "
   ]
  },
  {
   "cell_type": "code",
   "execution_count": null,
   "metadata": {},
   "outputs": [],
   "source": [
    "#Example of accessing paths\n",
    "from configs import paths\n",
    "from configs import names\n",
    "print(paths.FOLDER_ROOT)"
   ]
  },
  {
   "cell_type": "markdown",
   "metadata": {},
   "source": [
    "## Download dataset from Azure Blob storage using config file with credentials  "
   ]
  },
  {
   "cell_type": "code",
   "execution_count": null,
   "metadata": {},
   "outputs": [],
   "source": [
    "from src.data.download_from_azure import download_data_from_azure_to_raw, read_config\n",
    "from configs.paths import FOLDER_CONFIG_FILES, FOLDER_DATA_RAW\n",
    "\n",
    "config_file_name = \"config_metyis.yaml\" #put the correct company name here\n",
    "config = read_config(FOLDER_CONFIG_FILES / config_file_name)\n",
    "AZURE_STORAGE_CONNECTION_STRING = config['azure-ld-best-practices']['AZURE_STORAGE_CONNECTION_STRING']\n",
    "CONTAINER_NAME = config['azure-ld-best-practices']['CONTAINER_NAME']\n",
    "\n",
    "download_data_from_azure_to_raw(filename=\"online_shoppers_intention.csv\",\n",
    "                            azure_storage_connection_string=AZURE_STORAGE_CONNECTION_STRING,\n",
    "                            container_name=CONTAINER_NAME,\n",
    "                            folder_data_raw = FOLDER_DATA_RAW)"
   ]
  },
  {
   "cell_type": "markdown",
   "metadata": {},
   "source": [
    "## Read in downloaded dataset from Azure from raw folder"
   ]
  },
  {
   "cell_type": "code",
   "execution_count": null,
   "metadata": {},
   "outputs": [],
   "source": [
    "import pandas as pd\n",
    "df = pd.read_csv(FOLDER_DATA_RAW / \"online_shoppers_intention.csv\")"
   ]
  },
  {
   "cell_type": "markdown",
   "metadata": {},
   "source": [
    "## Goal of project: Online Shoppers Purchasing Intention\n",
    "\n",
    "#### Dataset origin: \n",
    "Abstract: Of the 12,330 sessions in the dataset, 84.5% (10,422) were negative class samples that did not end with shopping, and the rest (1908) were positive class samples ending with shopping.\n",
    "\n",
    "\n",
    "#### Purpose:\n",
    "\n",
    "Given clickstream and session data of a user who visits an e-commerce website, can we predict whether or not that visitor will make a purchase?\n",
    "\n",
    "#### Data set columns\n",
    "\n",
    "Target column: \n",
    "* The `Revenue` attribute indicates whether a purcahse was made and can be used as the class label.\n",
    "\n",
    "Feature columns information:\n",
    "\n",
    "* `Administrative`, `Administrative Duration`, `Informational`, `Informational Duration`, `Product Related` and `Product Related Duration` represent the number of different types of pages visited by the visitor in that session and total time spent in each of these page categories. The values of these features are derived from the URL information of the pages visited by the user and updated in real time when a user takes an action, e.g. moving from one page to another.\n",
    "\n",
    "* The `Bounce Rate`, `Exit Rate` and `Page Value` features represent the metrics measured by \"Google Analytics\" for each page in the e-commerce site. The value of \"Bounce Rate\" feature for a web page refers to the percentage of visitors who enter the site from that page and then leave (\"bounce\") without triggering any other requests to the analytics server during that session. The value of \"Exit Rate\" feature for a specific web page is calculated as for all pageviews to the page, the percentage that were the last in the session. \n",
    "\n",
    "* The `Page Value` feature represents the average value for a web page that a user visited before completing an e-commerce transaction. \n",
    "\n",
    "* The `Special Day` feature indicates the closeness of the site visiting time to a specific special day (e.g. Mother’s Day, Valentine's Day) in which the sessions are more likely to be finalized with transaction. The value of this attribute is determined by considering the dynamics of e-commerce such as the duration between the order date and delivery date. For example, for Valentina’s day, this value takes a nonzero value between February 2 and February 12, zero before and after this date unless it is close to another special day, and its maximum value of 1 on February 8. \n",
    "\n",
    "* The dataset also includes operating system, `Browser`, `Region`, `TrafficType`, `VisitorType` as returning or new visitor, a Boolean value indicating whether the date of the visit is `Weekend`, and `Month` of the year.\n"
   ]
  },
  {
   "cell_type": "markdown",
   "metadata": {},
   "source": [
    "# EDA\n",
    "\n",
    "Please add cells below and start doing your own EDA in this notebook. \n",
    "\n",
    "Packages to consider:\n",
    "* pandas-profiling\n",
    "* human-learn\n",
    "* statsmodels --> logistic regression"
   ]
  },
  {
   "cell_type": "code",
   "execution_count": null,
   "metadata": {},
   "outputs": [],
   "source": [
    "##Start coding here!"
   ]
  }
 ],
 "metadata": {
  "kernelspec": {
   "display_name": "Python 3.9.7 ('base')",
   "language": "python",
   "name": "python3"
  },
  "language_info": {
   "codemirror_mode": {
    "name": "ipython",
    "version": 3
   },
   "file_extension": ".py",
   "mimetype": "text/x-python",
   "name": "python",
   "nbconvert_exporter": "python",
   "pygments_lexer": "ipython3",
   "version": "3.9.7 (default, Sep 16 2021, 16:59:28) [MSC v.1916 64 bit (AMD64)]"
  },
  "vscode": {
   "interpreter": {
    "hash": "bff51b5bfa98e865204c0539ad34db15d8bf66b339cb2440bf7437b494a33364"
   }
  }
 },
 "nbformat": 4,
 "nbformat_minor": 2
}
