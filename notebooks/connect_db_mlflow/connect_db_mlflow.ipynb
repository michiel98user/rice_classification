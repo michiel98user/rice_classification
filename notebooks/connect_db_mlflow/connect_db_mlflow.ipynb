{
 "cells": [
  {
   "attachments": {},
   "cell_type": "markdown",
   "metadata": {},
   "source": [
    "# Connect to remote DataBricks MLFlow server\n",
    "- Using your terminal (anaconda prompt or powershell) use ```databricks configure --token``` \n",
    "  - hostname as explained [here](https://learn.microsoft.com/en-us/azure/databricks/workspace/workspace-details#per-workspace-url)\n",
    "    - Metyis databricks host name: https://adb-8894339424313813.13.azuredatabricks.net/\n",
    "    - Adaptfy databricks host name: https://adb-243386025177033.13.azuredatabricks.net/\n",
    "  - Generate **AND COPY** Rest API token through DB as shown in the image below ![Example Image](\\imgs\\generate__rest_api_token_through_db.png), put token in your command line"
   ]
  },
  {
   "attachments": {},
   "cell_type": "markdown",
   "metadata": {},
   "source": [
    "## Set the tracking URI & Creating an experiment\n",
    "- **Only one team member has to do this**"
   ]
  },
  {
   "cell_type": "code",
   "execution_count": null,
   "metadata": {},
   "outputs": [],
   "source": [
    "import mlflow\n",
    "\n",
    "team_number = \"1\" # Please fill in your team number\n",
    "remote_server_uri = \"databricks\"\n",
    "user_name =  # \"...@metyis.com\" # or \"...@adaptfy.com\"\n",
    "experiment_name = f\"experiment team {team_number}\"\n",
    "\n",
    "# Set your tracking uri automatically uses the host and token when databricks is specified\n",
    "mlflow.set_tracking_uri(remote_server_uri)\n",
    "\n",
    "# Create an experiment for your team\n",
    "experiment = mlflow.create_experiment(f'/Users/{user_name}/{experiment_name}')"
   ]
  },
  {
   "attachments": {},
   "cell_type": "markdown",
   "metadata": {},
   "source": [
    "![Created an experiment on DB](\\imgs\\experiment_created.png)"
   ]
  },
  {
   "attachments": {},
   "cell_type": "markdown",
   "metadata": {},
   "source": [
    "---\n",
    "# Exercise\n",
    "### Run experiments and log all hyperparameters and metrics\n",
    "Using the cells below, you can run your make_dataset and build_features, then log parameters to different models through MLFlow\n",
    "#### Optional: \n",
    "- Use Scikit-learns grid search\n",
    "- Think about anything what would be relevant per model run, like: plots, small tables, ...\n",
    " \n",
    "MLFlow integrates well with Scikit-learn, please see their general documentation [here](https://mlflow.org/docs/latest/python_api/mlflow.sklearn.html)\n",
    "- Check out the [autologging functionality](https://mlflow.org/docs/latest/tracking.html#scikit-learn) which integrates well with more than Scikit-learn (Spark, XGBoost, ...)"
   ]
  },
  {
   "attachments": {},
   "cell_type": "markdown",
   "metadata": {},
   "source": [
    "### Autolog example"
   ]
  },
  {
   "cell_type": "code",
   "execution_count": null,
   "metadata": {},
   "outputs": [],
   "source": [
    "# Set experiment to your teams experiment\n",
    "team_number = \"team chkpt3\" # Please fill in your team number\n",
    "user_name = \"robin.opdam@metyis.com\" # \"...@metyis.com\" # or \"...@adaptfy.com\"\n",
    "experiment_name = f\"experiment team {team_number}\"\n",
    "\n",
    "mlflow.set_experiment(f'/Users/{user_name}/{experiment_name}')"
   ]
  },
  {
   "cell_type": "code",
   "execution_count": null,
   "metadata": {},
   "outputs": [],
   "source": [
    "from src.data.make_dataset import make_dataset\n",
    "from src.features.build_features import build_features\n",
    "from sklearn.ensemble import RandomForestClassifier\n",
    "\n",
    "df = make_dataset()\n",
    "x_train, x_test, y_train, y_test = build_features(df)\n",
    "\n",
    "mlflow.autolog()\n",
    "\n",
    "# Create and train models.\n",
    "rf = RandomForestClassifier(n_estimators=100, max_depth=6, max_features=3)\n",
    "rf.fit(x_train, y_train)\n",
    "\n",
    "# Use the model to make predictions on the test dataset.\n",
    "predictions = rf.predict(x_test)\n",
    "autolog_run = mlflow.last_active_run()\n",
    "\n",
    "# Have a look at your experiment!"
   ]
  },
  {
   "cell_type": "code",
   "execution_count": null,
   "metadata": {},
   "outputs": [],
   "source": []
  }
 ],
 "metadata": {
  "kernelspec": {
   "display_name": "env_ld_bp",
   "language": "python",
   "name": "python3"
  },
  "language_info": {
   "codemirror_mode": {
    "name": "ipython",
    "version": 3
   },
   "file_extension": ".py",
   "mimetype": "text/x-python",
   "name": "python",
   "nbconvert_exporter": "python",
   "pygments_lexer": "ipython3",
   "version": "3.9.15"
  },
  "orig_nbformat": 4,
  "vscode": {
   "interpreter": {
    "hash": "d4e4f87680e2eb86d7a94903896d71bd156c778363b18233203209d159a4d270"
   }
  }
 },
 "nbformat": 4,
 "nbformat_minor": 2
}
